{
 "cells": [
  {
   "cell_type": "code",
   "execution_count": 1,
   "id": "69dab102",
   "metadata": {},
   "outputs": [],
   "source": [
    "import pandas as pd\n",
    "import numpy as np\n",
    "import matplotlib.pyplot as plt\n",
    "from unicodedata import normalize\n"
   ]
  },
  {
   "cell_type": "code",
   "execution_count": 6,
   "id": "48ff64ef",
   "metadata": {},
   "outputs": [
    {
     "data": {
      "text/plain": [
       "2"
      ]
     },
     "execution_count": 6,
     "metadata": {},
     "output_type": "execute_result"
    }
   ],
   "source": [
    "NBA_tables = pd.read_html('https://en.wikipedia.org/wiki/NBA_Finals',\n",
    "match = 'Finals appearances')\n",
    "len(NBA_tables)"
   ]
  },
  {
   "cell_type": "code",
   "execution_count": 3,
   "id": "cf13dc76",
   "metadata": {},
   "outputs": [],
   "source": [
    "NBA_table = NBA_tables[0]"
   ]
  },
  {
   "cell_type": "code",
   "execution_count": 4,
   "id": "ae506040",
   "metadata": {},
   "outputs": [
    {
     "data": {
      "text/html": [
       "<div>\n",
       "<style scoped>\n",
       "    .dataframe tbody tr th:only-of-type {\n",
       "        vertical-align: middle;\n",
       "    }\n",
       "\n",
       "    .dataframe tbody tr th {\n",
       "        vertical-align: top;\n",
       "    }\n",
       "\n",
       "    .dataframe thead th {\n",
       "        text-align: right;\n",
       "    }\n",
       "</style>\n",
       "<table border=\"1\" class=\"dataframe\">\n",
       "  <thead>\n",
       "    <tr style=\"text-align: right;\">\n",
       "      <th></th>\n",
       "      <th>No.</th>\n",
       "      <th>Team</th>\n",
       "      <th>W</th>\n",
       "      <th>L</th>\n",
       "      <th>Win%</th>\n",
       "      <th>Most recent appearance</th>\n",
       "      <th>Most recent title</th>\n",
       "      <th>Notes</th>\n",
       "    </tr>\n",
       "  </thead>\n",
       "  <tbody>\n",
       "    <tr>\n",
       "      <th>0</th>\n",
       "      <td>32</td>\n",
       "      <td>Minneapolis/Los Angeles Lakers</td>\n",
       "      <td>17</td>\n",
       "      <td>15</td>\n",
       "      <td>0.531</td>\n",
       "      <td>2020</td>\n",
       "      <td>2020</td>\n",
       "      <td>5–1 in Minneapolis and 12–14 in Los Angeles. C...</td>\n",
       "    </tr>\n",
       "    <tr>\n",
       "      <th>1</th>\n",
       "      <td>22</td>\n",
       "      <td>Boston Celtics</td>\n",
       "      <td>17</td>\n",
       "      <td>4</td>\n",
       "      <td>0.810</td>\n",
       "      <td>2022</td>\n",
       "      <td>2008</td>\n",
       "      <td>Won eight straight titles from 1959 to 1966, a...</td>\n",
       "    </tr>\n",
       "    <tr>\n",
       "      <th>2</th>\n",
       "      <td>12</td>\n",
       "      <td>Philadelphia/San Francisco/Golden State Warriors</td>\n",
       "      <td>6</td>\n",
       "      <td>5</td>\n",
       "      <td>0.545</td>\n",
       "      <td>2022</td>\n",
       "      <td>2018</td>\n",
       "      <td>2–1 in Philadelphia and 4–4 in California. Won...</td>\n",
       "    </tr>\n",
       "    <tr>\n",
       "      <th>3</th>\n",
       "      <td>9</td>\n",
       "      <td>Syracuse Nationals/Philadelphia 76ers</td>\n",
       "      <td>3</td>\n",
       "      <td>6</td>\n",
       "      <td>0.333</td>\n",
       "      <td>2001</td>\n",
       "      <td>1983</td>\n",
       "      <td>1–2 in Syracuse and 2–4 in Philadelphia. Won o...</td>\n",
       "    </tr>\n",
       "    <tr>\n",
       "      <th>4</th>\n",
       "      <td>8</td>\n",
       "      <td>New York Knicks</td>\n",
       "      <td>2</td>\n",
       "      <td>6</td>\n",
       "      <td>0.250</td>\n",
       "      <td>1999</td>\n",
       "      <td>1973</td>\n",
       "      <td>In their most recent appearance, they became t...</td>\n",
       "    </tr>\n",
       "  </tbody>\n",
       "</table>\n",
       "</div>"
      ],
      "text/plain": [
       "   No.                                              Team   W   L   Win%  \\\n",
       "0   32                    Minneapolis/Los Angeles Lakers  17  15  0.531   \n",
       "1   22                                    Boston Celtics  17   4  0.810   \n",
       "2   12  Philadelphia/San Francisco/Golden State Warriors   6   5  0.545   \n",
       "3    9             Syracuse Nationals/Philadelphia 76ers   3   6  0.333   \n",
       "4    8                                   New York Knicks   2   6  0.250   \n",
       "\n",
       "   Most recent appearance Most recent title  \\\n",
       "0                    2020              2020   \n",
       "1                    2022              2008   \n",
       "2                    2022              2018   \n",
       "3                    2001              1983   \n",
       "4                    1999              1973   \n",
       "\n",
       "                                               Notes  \n",
       "0  5–1 in Minneapolis and 12–14 in Los Angeles. C...  \n",
       "1  Won eight straight titles from 1959 to 1966, a...  \n",
       "2  2–1 in Philadelphia and 4–4 in California. Won...  \n",
       "3  1–2 in Syracuse and 2–4 in Philadelphia. Won o...  \n",
       "4  In their most recent appearance, they became t...  "
      ]
     },
     "execution_count": 4,
     "metadata": {},
     "output_type": "execute_result"
    }
   ],
   "source": [
    "NBA_table.head()"
   ]
  },
  {
   "cell_type": "code",
   "execution_count": 10,
   "id": "0be30a80",
   "metadata": {},
   "outputs": [
    {
     "data": {
      "text/html": [
       "<div>\n",
       "<style scoped>\n",
       "    .dataframe tbody tr th:only-of-type {\n",
       "        vertical-align: middle;\n",
       "    }\n",
       "\n",
       "    .dataframe tbody tr th {\n",
       "        vertical-align: top;\n",
       "    }\n",
       "\n",
       "    .dataframe thead th {\n",
       "        text-align: right;\n",
       "    }\n",
       "</style>\n",
       "<table border=\"1\" class=\"dataframe\">\n",
       "  <thead>\n",
       "    <tr style=\"text-align: right;\">\n",
       "      <th></th>\n",
       "      <th>P</th>\n",
       "      <th>Team</th>\n",
       "      <th>W</th>\n",
       "      <th>L</th>\n",
       "      <th>Win</th>\n",
       "      <th>Notes</th>\n",
       "    </tr>\n",
       "  </thead>\n",
       "  <tbody>\n",
       "    <tr>\n",
       "      <th>0</th>\n",
       "      <td>185</td>\n",
       "      <td>Los Angeles Lakers</td>\n",
       "      <td>93</td>\n",
       "      <td>92</td>\n",
       "      <td>0.503</td>\n",
       "      <td>Holds the record for the most games in a Final...</td>\n",
       "    </tr>\n",
       "    <tr>\n",
       "      <th>1</th>\n",
       "      <td>129</td>\n",
       "      <td>Boston Celtics</td>\n",
       "      <td>77</td>\n",
       "      <td>52</td>\n",
       "      <td>0.597</td>\n",
       "      <td>Recorded the first ever sweep in the Finals. L...</td>\n",
       "    </tr>\n",
       "    <tr>\n",
       "      <th>2</th>\n",
       "      <td>53</td>\n",
       "      <td>Philadelphia 76ers</td>\n",
       "      <td>24</td>\n",
       "      <td>29</td>\n",
       "      <td>0.453</td>\n",
       "      <td>Includes a record of 9–11 while in Syracuse, a...</td>\n",
       "    </tr>\n",
       "    <tr>\n",
       "      <th>3</th>\n",
       "      <td>59</td>\n",
       "      <td>Golden State Warriors</td>\n",
       "      <td>34</td>\n",
       "      <td>25</td>\n",
       "      <td>0.576</td>\n",
       "      <td>Includes records of 10–6 while in Philadelphia...</td>\n",
       "    </tr>\n",
       "    <tr>\n",
       "      <th>4</th>\n",
       "      <td>48</td>\n",
       "      <td>New York Knicks</td>\n",
       "      <td>20</td>\n",
       "      <td>28</td>\n",
       "      <td>0.417</td>\n",
       "      <td>Lost 4–1 in their last Finals appearance in 1999.</td>\n",
       "    </tr>\n",
       "  </tbody>\n",
       "</table>\n",
       "</div>"
      ],
      "text/plain": [
       "     P                   Team   W   L    Win  \\\n",
       "0  185     Los Angeles Lakers  93  92  0.503   \n",
       "1  129         Boston Celtics  77  52  0.597   \n",
       "2   53     Philadelphia 76ers  24  29  0.453   \n",
       "3   59  Golden State Warriors  34  25  0.576   \n",
       "4   48        New York Knicks  20  28  0.417   \n",
       "\n",
       "                                               Notes  \n",
       "0  Holds the record for the most games in a Final...  \n",
       "1  Recorded the first ever sweep in the Finals. L...  \n",
       "2  Includes a record of 9–11 while in Syracuse, a...  \n",
       "3  Includes records of 10–6 while in Philadelphia...  \n",
       "4  Lost 4–1 in their last Finals appearance in 1999.  "
      ]
     },
     "execution_count": 10,
     "metadata": {},
     "output_type": "execute_result"
    }
   ],
   "source": [
    "NBA_table = NBA_tables[1]\n",
    "NBA_table.head()"
   ]
  },
  {
   "cell_type": "code",
   "execution_count": null,
   "id": "547f20fa",
   "metadata": {},
   "outputs": [],
   "source": []
  }
 ],
 "metadata": {
  "kernelspec": {
   "display_name": "Python 3 (ipykernel)",
   "language": "python",
   "name": "python3"
  },
  "language_info": {
   "codemirror_mode": {
    "name": "ipython",
    "version": 3
   },
   "file_extension": ".py",
   "mimetype": "text/x-python",
   "name": "python",
   "nbconvert_exporter": "python",
   "pygments_lexer": "ipython3",
   "version": "3.9.12"
  }
 },
 "nbformat": 4,
 "nbformat_minor": 5
}
